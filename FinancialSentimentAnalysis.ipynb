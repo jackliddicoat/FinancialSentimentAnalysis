{
 "cells": [
  {
   "cell_type": "markdown",
   "id": "dea18b71-1590-4d38-a722-0896c24f9b74",
   "metadata": {},
   "source": [
    "# Financial Sentiment Analysis"
   ]
  },
  {
   "cell_type": "code",
   "execution_count": null,
   "id": "70c968dc-548f-4461-b41e-efef1d8af3ed",
   "metadata": {},
   "outputs": [],
   "source": [
    "import matplotlib.pyplot as plt\n",
    "import pandas as pd\n",
    "import numpy as np\n",
    "import nltk\n",
    "from nltk.sentiment.vader import SentimentIntensityAnalyzer\n",
    "from tqdm.notebook import tqdm"
   ]
  },
  {
   "cell_type": "code",
   "execution_count": null,
   "id": "2a3ee32e-65ab-4dd0-bfa0-5287c316cd1c",
   "metadata": {},
   "outputs": [],
   "source": [
    "df = pd.read_csv('all-data.csv', encoding='ISO-8859-1', names = ['sentiment', 'text'])\n",
    "df['sentiment_id'] = np.arange(0, len(df))"
   ]
  },
  {
   "cell_type": "code",
   "execution_count": null,
   "id": "2119f15d-2427-4dfe-ba5e-a06859c39452",
   "metadata": {},
   "outputs": [
    {
     "data": {
      "text/html": [
       "<div>\n",
       "<style scoped>\n",
       "    .dataframe tbody tr th:only-of-type {\n",
       "        vertical-align: middle;\n",
       "    }\n",
       "\n",
       "    .dataframe tbody tr th {\n",
       "        vertical-align: top;\n",
       "    }\n",
       "\n",
       "    .dataframe thead th {\n",
       "        text-align: right;\n",
       "    }\n",
       "</style>\n",
       "<table border=\"1\" class=\"dataframe\">\n",
       "  <thead>\n",
       "    <tr style=\"text-align: right;\">\n",
       "      <th></th>\n",
       "      <th>sentiment</th>\n",
       "      <th>text</th>\n",
       "      <th>sentiment_id</th>\n",
       "    </tr>\n",
       "  </thead>\n",
       "  <tbody>\n",
       "    <tr>\n",
       "      <th>0</th>\n",
       "      <td>neutral</td>\n",
       "      <td>According to Gran , the company has no plans t...</td>\n",
       "      <td>0</td>\n",
       "    </tr>\n",
       "    <tr>\n",
       "      <th>1</th>\n",
       "      <td>neutral</td>\n",
       "      <td>Technopolis plans to develop in stages an area...</td>\n",
       "      <td>1</td>\n",
       "    </tr>\n",
       "    <tr>\n",
       "      <th>2</th>\n",
       "      <td>negative</td>\n",
       "      <td>The international electronic industry company ...</td>\n",
       "      <td>2</td>\n",
       "    </tr>\n",
       "    <tr>\n",
       "      <th>3</th>\n",
       "      <td>positive</td>\n",
       "      <td>With the new production plant the company woul...</td>\n",
       "      <td>3</td>\n",
       "    </tr>\n",
       "    <tr>\n",
       "      <th>4</th>\n",
       "      <td>positive</td>\n",
       "      <td>According to the company 's updated strategy f...</td>\n",
       "      <td>4</td>\n",
       "    </tr>\n",
       "  </tbody>\n",
       "</table>\n",
       "</div>"
      ],
      "text/plain": [
       "  sentiment                                               text  sentiment_id\n",
       "0   neutral  According to Gran , the company has no plans t...             0\n",
       "1   neutral  Technopolis plans to develop in stages an area...             1\n",
       "2  negative  The international electronic industry company ...             2\n",
       "3  positive  With the new production plant the company woul...             3\n",
       "4  positive  According to the company 's updated strategy f...             4"
      ]
     },
     "execution_count": 6,
     "metadata": {},
     "output_type": "execute_result"
    }
   ],
   "source": [
    "df.head()"
   ]
  },
  {
   "cell_type": "code",
   "execution_count": null,
   "id": "4d9a686c-b0cb-4bc6-9b14-0fee7f282056",
   "metadata": {
    "scrolled": true
   },
   "outputs": [
    {
     "name": "stdout",
     "output_type": "stream",
     "text": [
      "<class 'pandas.core.frame.DataFrame'>\n",
      "RangeIndex: 4846 entries, 0 to 4845\n",
      "Data columns (total 3 columns):\n",
      " #   Column        Non-Null Count  Dtype \n",
      "---  ------        --------------  ----- \n",
      " 0   sentiment     4846 non-null   object\n",
      " 1   text          4846 non-null   object\n",
      " 2   sentiment_id  4846 non-null   int64 \n",
      "dtypes: int64(1), object(2)\n",
      "memory usage: 113.7+ KB\n"
     ]
    }
   ],
   "source": [
    "df.info()"
   ]
  },
  {
   "cell_type": "code",
   "execution_count": null,
   "id": "c36d41ed-bdd1-4711-bae8-8771c5cc86e2",
   "metadata": {
    "scrolled": true
   },
   "outputs": [
    {
     "data": {
      "text/html": [
       "<div>\n",
       "<style scoped>\n",
       "    .dataframe tbody tr th:only-of-type {\n",
       "        vertical-align: middle;\n",
       "    }\n",
       "\n",
       "    .dataframe tbody tr th {\n",
       "        vertical-align: top;\n",
       "    }\n",
       "\n",
       "    .dataframe thead th {\n",
       "        text-align: right;\n",
       "    }\n",
       "</style>\n",
       "<table border=\"1\" class=\"dataframe\">\n",
       "  <thead>\n",
       "    <tr style=\"text-align: right;\">\n",
       "      <th></th>\n",
       "      <th>sentiment</th>\n",
       "      <th>cnt</th>\n",
       "    </tr>\n",
       "  </thead>\n",
       "  <tbody>\n",
       "    <tr>\n",
       "      <th>0</th>\n",
       "      <td>negative</td>\n",
       "      <td>604</td>\n",
       "    </tr>\n",
       "    <tr>\n",
       "      <th>1</th>\n",
       "      <td>neutral</td>\n",
       "      <td>2879</td>\n",
       "    </tr>\n",
       "    <tr>\n",
       "      <th>2</th>\n",
       "      <td>positive</td>\n",
       "      <td>1363</td>\n",
       "    </tr>\n",
       "  </tbody>\n",
       "</table>\n",
       "</div>"
      ],
      "text/plain": [
       "  sentiment   cnt\n",
       "0  negative   604\n",
       "1   neutral  2879\n",
       "2  positive  1363"
      ]
     },
     "execution_count": 8,
     "metadata": {},
     "output_type": "execute_result"
    }
   ],
   "source": [
    "sent_count = df.groupby('sentiment').count().reset_index().rename(columns={'text': 'cnt'})[['sentiment', 'cnt']]\n",
    "sent_count"
   ]
  },
  {
   "cell_type": "code",
   "execution_count": null,
   "id": "20a472f9-6ecf-4f50-bbad-368ed97da0ff",
   "metadata": {},
   "outputs": [
    {
     "data": {
      "text/plain": [
       "<BarContainer object of 3 artists>"
      ]
     },
     "execution_count": 9,
     "metadata": {},
     "output_type": "execute_result"
    },
    {
     "data": {
      "image/png": "[encoded data removed]",
      "text/plain": [
       "<Figure size 640x480 with 1 Axes>"
      ]
     },
     "metadata": {},
     "output_type": "display_data"
    }
   ],
   "source": [
    "plt.bar(sent_count['sentiment'], sent_count['cnt'])"
   ]
  },
  {
   "cell_type": "code",
   "execution_count": null,
   "id": "fd0dbb05-c9d6-4ede-9bfb-59c5c6e43d79",
   "metadata": {},
   "outputs": [],
   "source": [
    "sia = SentimentIntensityAnalyzer()"
   ]
  },
  {
   "cell_type": "code",
   "execution_count": null,
   "id": "0028e870-84c2-46aa-a7aa-0112c08fafd6",
   "metadata": {},
   "outputs": [
    {
     "data": {
      "application/vnd.jupyter.widget-view+json": {
       "model_id": "5753c53faf944054a11e7b5bde9b6765",
       "version_major": 2,
       "version_minor": 0
      },
      "text/plain": [
       "  0%|          | 0/4846 [00:00<?, ?it/s]"
      ]
     },
     "metadata": {},
     "output_type": "display_data"
    }
   ],
   "source": [
    "res = {}\n",
    "for i, row in tqdm(df.iterrows(), total = len(df)):\n",
    "    text = row['text']\n",
    "    id = row['sentiment_id']\n",
    "    res[id] = (sia.polarity_scores(text))"
   ]
  },
  {
   "cell_type": "code",
   "execution_count": null,
   "id": "57c17ff9-3fa4-45d1-bbea-c3a45926dc3d",
   "metadata": {},
   "outputs": [
    {
     "data": {
      "text/html": [
       "<div>\n",
       "<style scoped>\n",
       "    .dataframe tbody tr th:only-of-type {\n",
       "        vertical-align: middle;\n",
       "    }\n",
       "\n",
       "    .dataframe tbody tr th {\n",
       "        vertical-align: top;\n",
       "    }\n",
       "\n",
       "    .dataframe thead th {\n",
       "        text-align: right;\n",
       "    }\n",
       "</style>\n",
       "<table border=\"1\" class=\"dataframe\">\n",
       "  <thead>\n",
       "    <tr style=\"text-align: right;\">\n",
       "      <th></th>\n",
       "      <th>sentiment_id</th>\n",
       "      <th>neg</th>\n",
       "      <th>neu</th>\n",
       "      <th>pos</th>\n",
       "      <th>compound</th>\n",
       "      <th>roberta_neg</th>\n",
       "      <th>roberta_neu</th>\n",
       "      <th>roberta_pos</th>\n",
       "      <th>sentiment</th>\n",
       "      <th>text</th>\n",
       "    </tr>\n",
       "  </thead>\n",
       "  <tbody>\n",
       "    <tr>\n",
       "      <th>0</th>\n",
       "      <td>0</td>\n",
       "      <td>0.092</td>\n",
       "      <td>0.837</td>\n",
       "      <td>0.071</td>\n",
       "      <td>-0.1280</td>\n",
       "      <td>0.023855</td>\n",
       "      <td>0.695984</td>\n",
       "      <td>0.280161</td>\n",
       "      <td>neutral</td>\n",
       "      <td>According to Gran , the company has no plans t...</td>\n",
       "    </tr>\n",
       "    <tr>\n",
       "      <th>1</th>\n",
       "      <td>1</td>\n",
       "      <td>0.073</td>\n",
       "      <td>0.927</td>\n",
       "      <td>0.000</td>\n",
       "      <td>-0.2960</td>\n",
       "      <td>0.013208</td>\n",
       "      <td>0.839792</td>\n",
       "      <td>0.147000</td>\n",
       "      <td>neutral</td>\n",
       "      <td>Technopolis plans to develop in stages an area...</td>\n",
       "    </tr>\n",
       "    <tr>\n",
       "      <th>2</th>\n",
       "      <td>2</td>\n",
       "      <td>0.000</td>\n",
       "      <td>1.000</td>\n",
       "      <td>0.000</td>\n",
       "      <td>0.0000</td>\n",
       "      <td>0.511061</td>\n",
       "      <td>0.456079</td>\n",
       "      <td>0.032861</td>\n",
       "      <td>negative</td>\n",
       "      <td>The international electronic industry company ...</td>\n",
       "    </tr>\n",
       "    <tr>\n",
       "      <th>3</th>\n",
       "      <td>3</td>\n",
       "      <td>0.038</td>\n",
       "      <td>0.660</td>\n",
       "      <td>0.302</td>\n",
       "      <td>0.8555</td>\n",
       "      <td>0.002757</td>\n",
       "      <td>0.262543</td>\n",
       "      <td>0.734700</td>\n",
       "      <td>positive</td>\n",
       "      <td>With the new production plant the company woul...</td>\n",
       "    </tr>\n",
       "    <tr>\n",
       "      <th>4</th>\n",
       "      <td>4</td>\n",
       "      <td>0.000</td>\n",
       "      <td>0.853</td>\n",
       "      <td>0.147</td>\n",
       "      <td>0.6705</td>\n",
       "      <td>0.004494</td>\n",
       "      <td>0.691308</td>\n",
       "      <td>0.304198</td>\n",
       "      <td>positive</td>\n",
       "      <td>According to the company 's updated strategy f...</td>\n",
       "    </tr>\n",
       "  </tbody>\n",
       "</table>\n",
       "</div>"
      ],
      "text/plain": [
       "   sentiment_id    neg    neu    pos  compound  roberta_neg  roberta_neu  \\\n",
       "0             0  0.092  0.837  0.071   -0.1280     0.023855     0.695984   \n",
       "1             1  0.073  0.927  0.000   -0.2960     0.013208     0.839792   \n",
       "2             2  0.000  1.000  0.000    0.0000     0.511061     0.456079   \n",
       "3             3  0.038  0.660  0.302    0.8555     0.002757     0.262543   \n",
       "4             4  0.000  0.853  0.147    0.6705     0.004494     0.691308   \n",
       "\n",
       "   roberta_pos sentiment                                               text  \n",
       "0     0.280161   neutral  According to Gran , the company has no plans t...  \n",
       "1     0.147000   neutral  Technopolis plans to develop in stages an area...  \n",
       "2     0.032861  negative  The international electronic industry company ...  \n",
       "3     0.734700  positive  With the new production plant the company woul...  \n",
       "4     0.304198  positive  According to the company 's updated strategy f...  "
      ]
     },
     "execution_count": 16,
     "metadata": {},
     "output_type": "execute_result"
    }
   ],
   "source": [
    "scores = pd.DataFrame(res).T\n",
    "scores = scores.reset_index().rename(columns={'index':'sentiment_id'})\n",
    "scores = scores.merge(df, how = 'left')\n",
    "scores.head()"
   ]
  },
  {
   "cell_type": "code",
   "execution_count": null,
   "id": "7ea641e0-7561-489a-b460-5ea0d7c6df80",
   "metadata": {},
   "outputs": [
    {
     "data": {
      "text/plain": [
       "Text(0.5, 1.0, 'Compound Polarity Scores for Financial Data')"
      ]
     },
     "execution_count": 17,
     "metadata": {},
     "output_type": "execute_result"
    },
    {
     "data": {
      "image/png": "[encoded data removed]",
      "text/plain": [
       "<Figure size 640x480 with 1 Axes>"
      ]
     },
     "metadata": {},
     "output_type": "display_data"
    }
   ],
   "source": [
    "plt.hist(scores['compound'], bins = 10)\n",
    "plt.title(\"Compound Polarity Scores for Financial Data\")"
   ]
  },
  {
   "cell_type": "markdown",
   "id": "d8102ba9-c861-4c16-b244-fc69ad15681f",
   "metadata": {},
   "source": [
    "### Compare our Sentiment Analysis to the Roberta pre-trained model"
   ]
  },
  {
   "cell_type": "code",
   "execution_count": null,
   "id": "c61aeb76-bd36-491b-8292-9d07ff7e20f1",
   "metadata": {},
   "outputs": [],
   "source": [
    "from transformers import AutoTokenizer\n",
    "from transformers import AutoModelForSequenceClassification\n",
    "from scipy.special import softmax"
   ]
  },
  {
   "cell_type": "code",
   "execution_count": null,
   "id": "996484df-1f3f-4ae5-a5a9-c88fa57619b9",
   "metadata": {},
   "outputs": [
    {
     "name": "stderr",
     "output_type": "stream",
     "text": [
      "/Library/Frameworks/Python.framework/Versions/3.11/lib/python3.11/site-packages/huggingface_hub/file_download.py:1132: FutureWarning: `resume_download` is deprecated and will be removed in version 1.0.0. Downloads always resume when possible. If you want to force a new download, use `force_download=True`.\n",
      "  warnings.warn(\n"
     ]
    }
   ],
   "source": [
    "MODEL = f\"cardiffnlp/twitter-roberta-base-sentiment\"\n",
    "tokenizer = AutoTokenizer.from_pretrained(MODEL)\n",
    "model = AutoModelForSequenceClassification.from_pretrained(MODEL)"
   ]
  },
  {
   "cell_type": "code",
   "execution_count": null,
   "id": "76fc723a-9e3d-4ea5-9d5f-c6f386783645",
   "metadata": {},
   "outputs": [
    {
     "data": {
      "text/plain": [
       "{'neg': 0.636, 'neu': 0.364, 'pos': 0.0, 'compound': -0.5423}"
      ]
     },
     "execution_count": 11,
     "metadata": {},
     "output_type": "execute_result"
    }
   ],
   "source": [
    "example = \"Oatmeal is bad\"\n",
    "sia.polarity_scores(example)"
   ]
  },
  {
   "cell_type": "code",
   "execution_count": null,
   "id": "cc16a869-a95a-41d6-997c-37f5b0018177",
   "metadata": {},
   "outputs": [
    {
     "data": {
      "text/plain": [
       "{'roberta_neg': 0.9590146,\n",
       " 'roberta_neu': 0.035768818,\n",
       " 'roberta_pos': 0.0052165436}"
      ]
     },
     "execution_count": 12,
     "metadata": {},
     "output_type": "execute_result"
    }
   ],
   "source": [
    "encoded_text = tokenizer(example, return_tensors = 'pt')\n",
    "output = model(**encoded_text)\n",
    "scores = output[0][0].detach().numpy()\n",
    "scores = softmax(scores)\n",
    "scores_dict = {\n",
    "    'roberta_neg' : scores[0],\n",
    "    'roberta_neu' : scores[1],\n",
    "    'roberta_pos' : scores[2]\n",
    "}\n",
    "scores_dict"
   ]
  },
  {
   "cell_type": "code",
   "execution_count": null,
   "id": "261c4cf0-2a4b-40cc-8f05-44fbad0da963",
   "metadata": {},
   "outputs": [],
   "source": [
    "def roberta_polarity_scores(text):\n",
    "    encoded_text = tokenizer(text, return_tensors = 'pt')\n",
    "    output = model(**encoded_text)\n",
    "    scores = output[0][0].detach().numpy()\n",
    "    scores = softmax(scores)\n",
    "    scores_dict = {\n",
    "    'roberta_neg' : scores[0],\n",
    "    'roberta_neu' : scores[1],\n",
    "    'roberta_pos' : scores[2]\n",
    "}\n",
    "    return scores_dict"
   ]
  },
  {
   "cell_type": "code",
   "execution_count": null,
   "id": "6f429ca4-5599-4c51-a403-5aef4111b17e",
   "metadata": {},
   "outputs": [
    {
     "data": {
      "application/vnd.jupyter.widget-view+json": {
       "model_id": "9607732b638a451e8323a7d5ec7fd9ec",
       "version_major": 2,
       "version_minor": 0
      },
      "text/plain": [
       "  0%|          | 0/4846 [00:00<?, ?it/s]"
      ]
     },
     "metadata": {},
     "output_type": "display_data"
    }
   ],
   "source": [
    "res = {}\n",
    "for i, row in tqdm(df.iterrows(), total = len(df)):\n",
    "    text = row['text']\n",
    "    id = row['sentiment_id']\n",
    "    vader_result = sia.polarity_scores(text)\n",
    "    roberta_result = roberta_polarity_scores(text)\n",
    "    combined = {**vader_result, **roberta_result}\n",
    "    res[id] = combined"
   ]
  },
  {
   "cell_type": "code",
   "execution_count": null,
   "id": "0c338196-bdcb-40a9-afd0-82fe4fca1bbc",
   "metadata": {},
   "outputs": [
    {
     "data": {
      "text/html": [
       "<div>\n",
       "<style scoped>\n",
       "    .dataframe tbody tr th:only-of-type {\n",
       "        vertical-align: middle;\n",
       "    }\n",
       "\n",
       "    .dataframe tbody tr th {\n",
       "        vertical-align: top;\n",
       "    }\n",
       "\n",
       "    .dataframe thead th {\n",
       "        text-align: right;\n",
       "    }\n",
       "</style>\n",
       "<table border=\"1\" class=\"dataframe\">\n",
       "  <thead>\n",
       "    <tr style=\"text-align: right;\">\n",
       "      <th></th>\n",
       "      <th>sentiment_id</th>\n",
       "      <th>neg</th>\n",
       "      <th>neu</th>\n",
       "      <th>pos</th>\n",
       "      <th>compound</th>\n",
       "      <th>roberta_neg</th>\n",
       "      <th>roberta_neu</th>\n",
       "      <th>roberta_pos</th>\n",
       "      <th>sentiment</th>\n",
       "      <th>text</th>\n",
       "    </tr>\n",
       "  </thead>\n",
       "  <tbody>\n",
       "    <tr>\n",
       "      <th>0</th>\n",
       "      <td>0</td>\n",
       "      <td>0.092</td>\n",
       "      <td>0.837</td>\n",
       "      <td>0.071</td>\n",
       "      <td>-0.1280</td>\n",
       "      <td>0.023855</td>\n",
       "      <td>0.695984</td>\n",
       "      <td>0.280161</td>\n",
       "      <td>neutral</td>\n",
       "      <td>According to Gran , the company has no plans t...</td>\n",
       "    </tr>\n",
       "    <tr>\n",
       "      <th>1</th>\n",
       "      <td>1</td>\n",
       "      <td>0.073</td>\n",
       "      <td>0.927</td>\n",
       "      <td>0.000</td>\n",
       "      <td>-0.2960</td>\n",
       "      <td>0.013208</td>\n",
       "      <td>0.839792</td>\n",
       "      <td>0.147000</td>\n",
       "      <td>neutral</td>\n",
       "      <td>Technopolis plans to develop in stages an area...</td>\n",
       "    </tr>\n",
       "    <tr>\n",
       "      <th>2</th>\n",
       "      <td>2</td>\n",
       "      <td>0.000</td>\n",
       "      <td>1.000</td>\n",
       "      <td>0.000</td>\n",
       "      <td>0.0000</td>\n",
       "      <td>0.511061</td>\n",
       "      <td>0.456079</td>\n",
       "      <td>0.032861</td>\n",
       "      <td>negative</td>\n",
       "      <td>The international electronic industry company ...</td>\n",
       "    </tr>\n",
       "    <tr>\n",
       "      <th>3</th>\n",
       "      <td>3</td>\n",
       "      <td>0.038</td>\n",
       "      <td>0.660</td>\n",
       "      <td>0.302</td>\n",
       "      <td>0.8555</td>\n",
       "      <td>0.002757</td>\n",
       "      <td>0.262543</td>\n",
       "      <td>0.734700</td>\n",
       "      <td>positive</td>\n",
       "      <td>With the new production plant the company woul...</td>\n",
       "    </tr>\n",
       "    <tr>\n",
       "      <th>4</th>\n",
       "      <td>4</td>\n",
       "      <td>0.000</td>\n",
       "      <td>0.853</td>\n",
       "      <td>0.147</td>\n",
       "      <td>0.6705</td>\n",
       "      <td>0.004494</td>\n",
       "      <td>0.691308</td>\n",
       "      <td>0.304198</td>\n",
       "      <td>positive</td>\n",
       "      <td>According to the company 's updated strategy f...</td>\n",
       "    </tr>\n",
       "    <tr>\n",
       "      <th>...</th>\n",
       "      <td>...</td>\n",
       "      <td>...</td>\n",
       "      <td>...</td>\n",
       "      <td>...</td>\n",
       "      <td>...</td>\n",
       "      <td>...</td>\n",
       "      <td>...</td>\n",
       "      <td>...</td>\n",
       "      <td>...</td>\n",
       "      <td>...</td>\n",
       "    </tr>\n",
       "    <tr>\n",
       "      <th>4841</th>\n",
       "      <td>4841</td>\n",
       "      <td>0.272</td>\n",
       "      <td>0.656</td>\n",
       "      <td>0.072</td>\n",
       "      <td>-0.7269</td>\n",
       "      <td>0.636021</td>\n",
       "      <td>0.343294</td>\n",
       "      <td>0.020685</td>\n",
       "      <td>negative</td>\n",
       "      <td>LONDON MarketWatch -- Share prices ended lower...</td>\n",
       "    </tr>\n",
       "    <tr>\n",
       "      <th>4842</th>\n",
       "      <td>4842</td>\n",
       "      <td>0.000</td>\n",
       "      <td>1.000</td>\n",
       "      <td>0.000</td>\n",
       "      <td>0.0000</td>\n",
       "      <td>0.277083</td>\n",
       "      <td>0.663619</td>\n",
       "      <td>0.059298</td>\n",
       "      <td>neutral</td>\n",
       "      <td>Rinkuskiai 's beer sales fell by 6.5 per cent ...</td>\n",
       "    </tr>\n",
       "    <tr>\n",
       "      <th>4843</th>\n",
       "      <td>4843</td>\n",
       "      <td>0.000</td>\n",
       "      <td>0.751</td>\n",
       "      <td>0.249</td>\n",
       "      <td>0.7430</td>\n",
       "      <td>0.226839</td>\n",
       "      <td>0.692909</td>\n",
       "      <td>0.080253</td>\n",
       "      <td>negative</td>\n",
       "      <td>Operating profit fell to EUR 35.4 mn from EUR ...</td>\n",
       "    </tr>\n",
       "    <tr>\n",
       "      <th>4844</th>\n",
       "      <td>4844</td>\n",
       "      <td>0.000</td>\n",
       "      <td>0.934</td>\n",
       "      <td>0.066</td>\n",
       "      <td>0.4404</td>\n",
       "      <td>0.094834</td>\n",
       "      <td>0.797649</td>\n",
       "      <td>0.107518</td>\n",
       "      <td>negative</td>\n",
       "      <td>Net sales of the Paper segment decreased to EU...</td>\n",
       "    </tr>\n",
       "    <tr>\n",
       "      <th>4845</th>\n",
       "      <td>4845</td>\n",
       "      <td>0.000</td>\n",
       "      <td>1.000</td>\n",
       "      <td>0.000</td>\n",
       "      <td>0.0000</td>\n",
       "      <td>0.550320</td>\n",
       "      <td>0.426307</td>\n",
       "      <td>0.023373</td>\n",
       "      <td>negative</td>\n",
       "      <td>Sales in Finland decreased by 10.5 % in Januar...</td>\n",
       "    </tr>\n",
       "  </tbody>\n",
       "</table>\n",
       "<p>4846 rows × 10 columns</p>\n",
       "</div>"
      ],
      "text/plain": [
       "      sentiment_id    neg    neu    pos  compound  roberta_neg  roberta_neu  \\\n",
       "0                0  0.092  0.837  0.071   -0.1280     0.023855     0.695984   \n",
       "1                1  0.073  0.927  0.000   -0.2960     0.013208     0.839792   \n",
       "2                2  0.000  1.000  0.000    0.0000     0.511061     0.456079   \n",
       "3                3  0.038  0.660  0.302    0.8555     0.002757     0.262543   \n",
       "4                4  0.000  0.853  0.147    0.6705     0.004494     0.691308   \n",
       "...            ...    ...    ...    ...       ...          ...          ...   \n",
       "4841          4841  0.272  0.656  0.072   -0.7269     0.636021     0.343294   \n",
       "4842          4842  0.000  1.000  0.000    0.0000     0.277083     0.663619   \n",
       "4843          4843  0.000  0.751  0.249    0.7430     0.226839     0.692909   \n",
       "4844          4844  0.000  0.934  0.066    0.4404     0.094834     0.797649   \n",
       "4845          4845  0.000  1.000  0.000    0.0000     0.550320     0.426307   \n",
       "\n",
       "      roberta_pos sentiment                                               text  \n",
       "0        0.280161   neutral  According to Gran , the company has no plans t...  \n",
       "1        0.147000   neutral  Technopolis plans to develop in stages an area...  \n",
       "2        0.032861  negative  The international electronic industry company ...  \n",
       "3        0.734700  positive  With the new production plant the company woul...  \n",
       "4        0.304198  positive  According to the company 's updated strategy f...  \n",
       "...           ...       ...                                                ...  \n",
       "4841     0.020685  negative  LONDON MarketWatch -- Share prices ended lower...  \n",
       "4842     0.059298   neutral  Rinkuskiai 's beer sales fell by 6.5 per cent ...  \n",
       "4843     0.080253  negative  Operating profit fell to EUR 35.4 mn from EUR ...  \n",
       "4844     0.107518  negative  Net sales of the Paper segment decreased to EU...  \n",
       "4845     0.023373  negative  Sales in Finland decreased by 10.5 % in Januar...  \n",
       "\n",
       "[4846 rows x 10 columns]"
      ]
     },
     "execution_count": 20,
     "metadata": {},
     "output_type": "execute_result"
    }
   ],
   "source": [
    "res_df = pd.DataFrame(res).T\n",
    "res_df = res_df.reset_index().rename(columns={'index':'sentiment_id'})\n",
    "res_df = res_df.merge(df, how = 'left')\n",
    "res_df"
   ]
  },
  {
   "cell_type": "code",
   "execution_count": null,
   "id": "f4c6e1fc-a78c-4390-aac8-1d5c97ab1fee",
   "metadata": {},
   "outputs": [
    {
     "data": {
      "text/plain": [
       "<matplotlib.collections.PathCollection at 0x17abf0750>"
      ]
     },
     "execution_count": 21,
     "metadata": {},
     "output_type": "execute_result"
    },
    {
     "data": {
      "image/png": "[encoded data removed]",
      "text/plain": [
       "<Figure size 640x480 with 1 Axes>"
      ]
     },
     "metadata": {},
     "output_type": "display_data"
    }
   ],
   "source": [
    "plt.scatter(res_df['neg'], res_df['roberta_neg'])"
   ]
  },
  {
   "cell_type": "code",
   "execution_count": null,
   "id": "62326126-54f4-4d5b-8f1d-59daedee199f",
   "metadata": {},
   "outputs": [
    {
     "data": {
      "text/plain": [
       "<matplotlib.collections.PathCollection at 0x313737bd0>"
      ]
     },
     "execution_count": 22,
     "metadata": {},
     "output_type": "execute_result"
    },
    {
     "data": {
      "image/png": "[encoded data removed]",
      "text/plain": [
       "<Figure size 640x480 with 1 Axes>"
      ]
     },
     "metadata": {},
     "output_type": "display_data"
    }
   ],
   "source": [
    "plt.scatter(res_df['neu'], res_df['roberta_neu'])"
   ]
  },
  {
   "cell_type": "code",
   "execution_count": null,
   "id": "6db9a997-92c3-4443-bbf3-7bc09d6dc8d3",
   "metadata": {},
   "outputs": [
    {
     "data": {
      "text/plain": [
       "<matplotlib.collections.PathCollection at 0x312e1b510>"
      ]
     },
     "execution_count": 23,
     "metadata": {},
     "output_type": "execute_result"
    },
    {
     "data": {
      "image/png": "[encoded data removed]",
      "text/plain": [
       "<Figure size 640x480 with 1 Axes>"
      ]
     },
     "metadata": {},
     "output_type": "display_data"
    }
   ],
   "source": [
    "plt.scatter(res_df['pos'], res_df['roberta_pos'])"
   ]
  },
  {
   "cell_type": "markdown",
   "id": "28b60d3f-31f8-4a3b-8523-91fc66dbff6d",
   "metadata": {},
   "source": [
    "## Modelling"
   ]
  },
  {
   "cell_type": "code",
   "execution_count": null,
   "id": "1ee96f1e-114a-4fe4-9efb-54b52755e42c",
   "metadata": {},
   "outputs": [],
   "source": [
    "from sklearn.feature_extraction.text import TfidfVectorizer, ENGLISH_STOP_WORDS\n",
    "from sklearn.model_selection import train_test_split\n",
    "from sklearn.ensemble import RandomForestClassifier\n",
    "from sklearn.metrics import accuracy_score, classification_report"
   ]
  },
  {
   "cell_type": "code",
   "execution_count": null,
   "id": "18b2e53a-5810-4c48-8be2-51fe0675ecff",
   "metadata": {},
   "outputs": [
    {
     "data": {
      "text/html": [
       "<div>\n",
       "<style scoped>\n",
       "    .dataframe tbody tr th:only-of-type {\n",
       "        vertical-align: middle;\n",
       "    }\n",
       "\n",
       "    .dataframe tbody tr th {\n",
       "        vertical-align: top;\n",
       "    }\n",
       "\n",
       "    .dataframe thead th {\n",
       "        text-align: right;\n",
       "    }\n",
       "</style>\n",
       "<table border=\"1\" class=\"dataframe\">\n",
       "  <thead>\n",
       "    <tr style=\"text-align: right;\">\n",
       "      <th></th>\n",
       "      <th>sentiment</th>\n",
       "      <th>text</th>\n",
       "    </tr>\n",
       "  </thead>\n",
       "  <tbody>\n",
       "    <tr>\n",
       "      <th>2</th>\n",
       "      <td>0</td>\n",
       "      <td>The international electronic industry company ...</td>\n",
       "    </tr>\n",
       "    <tr>\n",
       "      <th>3</th>\n",
       "      <td>1</td>\n",
       "      <td>With the new production plant the company woul...</td>\n",
       "    </tr>\n",
       "    <tr>\n",
       "      <th>4</th>\n",
       "      <td>1</td>\n",
       "      <td>According to the company 's updated strategy f...</td>\n",
       "    </tr>\n",
       "    <tr>\n",
       "      <th>5</th>\n",
       "      <td>1</td>\n",
       "      <td>FINANCING OF ASPOCOMP 'S GROWTH Aspocomp is ag...</td>\n",
       "    </tr>\n",
       "    <tr>\n",
       "      <th>6</th>\n",
       "      <td>1</td>\n",
       "      <td>For the last quarter of 2010 , Componenta 's n...</td>\n",
       "    </tr>\n",
       "  </tbody>\n",
       "</table>\n",
       "</div>"
      ],
      "text/plain": [
       "   sentiment                                               text\n",
       "2          0  The international electronic industry company ...\n",
       "3          1  With the new production plant the company woul...\n",
       "4          1  According to the company 's updated strategy f...\n",
       "5          1  FINANCING OF ASPOCOMP 'S GROWTH Aspocomp is ag...\n",
       "6          1  For the last quarter of 2010 , Componenta 's n..."
      ]
     },
     "execution_count": 25,
     "metadata": {},
     "output_type": "execute_result"
    }
   ],
   "source": [
    "df = pd.read_csv('all-data.csv', encoding='ISO-8859-1', names = ['sentiment', 'text'])\n",
    "df = df[df['sentiment'] != 'neutral']\n",
    "df['sentiment'] = df['sentiment'].apply(lambda x: 1 if x == \"positive\" else 0)\n",
    "df.head()"
   ]
  },
  {
   "cell_type": "code",
   "execution_count": null,
   "id": "5c4aa05a-47a2-45b4-8fb8-2e1613d4b1f0",
   "metadata": {},
   "outputs": [],
   "source": [
    "pattern = r\"[a-zA-Z]+\""
   ]
  },
  {
   "cell_type": "code",
   "execution_count": null,
   "id": "1f9e9ccf-4784-4dcd-8328-ac332f646538",
   "metadata": {},
   "outputs": [],
   "source": [
    "vector = TfidfVectorizer(\n",
    "    token_pattern = pattern,\n",
    "    stop_words = list(ENGLISH_STOP_WORDS),\n",
    "    ngram_range = (1, 2),\n",
    "    max_features = 600)"
   ]
  },
  {
   "cell_type": "code",
   "execution_count": null,
   "id": "49e40e08-314c-4a44-bc74-e6bf561a6ba5",
   "metadata": {},
   "outputs": [
    {
     "data": {
      "text/html": [
       "<style>#sk-container-id-1 {color: black;}#sk-container-id-1 pre{padding: 0;}#sk-container-id-1 div.sk-toggleable {background-color: white;}#sk-container-id-1 label.sk-toggleable__label {cursor: pointer;display: block;width: 100%;margin-bottom: 0;padding: 0.3em;box-sizing: border-box;text-align: center;}#sk-container-id-1 label.sk-toggleable__label-arrow:before {content: \"▸\";float: left;margin-right: 0.25em;color: #696969;}#sk-container-id-1 label.sk-toggleable__label-arrow:hover:before {color: black;}#sk-container-id-1 div.sk-estimator:hover label.sk-toggleable__label-arrow:before {color: black;}#sk-container-id-1 div.sk-toggleable__content {max-height: 0;max-width: 0;overflow: hidden;text-align: left;background-color: #f0f8ff;}#sk-container-id-1 div.sk-toggleable__content pre {margin: 0.2em;color: black;border-radius: 0.25em;background-color: #f0f8ff;}#sk-container-id-1 input.sk-toggleable__control:checked~div.sk-toggleable__content {max-height: 200px;max-width: 100%;overflow: auto;}#sk-container-id-1 input.sk-toggleable__control:checked~label.sk-toggleable__label-arrow:before {content: \"▾\";}#sk-container-id-1 div.sk-estimator input.sk-toggleable__control:checked~label.sk-toggleable__label {background-color: #d4ebff;}#sk-container-id-1 div.sk-label input.sk-toggleable__control:checked~label.sk-toggleable__label {background-color: #d4ebff;}#sk-container-id-1 input.sk-hidden--visually {border: 0;clip: rect(1px 1px 1px 1px);clip: rect(1px, 1px, 1px, 1px);height: 1px;margin: -1px;overflow: hidden;padding: 0;position: absolute;width: 1px;}#sk-container-id-1 div.sk-estimator {font-family: monospace;background-color: #f0f8ff;border: 1px dotted black;border-radius: 0.25em;box-sizing: border-box;margin-bottom: 0.5em;}#sk-container-id-1 div.sk-estimator:hover {background-color: #d4ebff;}#sk-container-id-1 div.sk-parallel-item::after {content: \"\";width: 100%;border-bottom: 1px solid gray;flex-grow: 1;}#sk-container-id-1 div.sk-label:hover label.sk-toggleable__label {background-color: #d4ebff;}#sk-container-id-1 div.sk-serial::before {content: \"\";position: absolute;border-left: 1px solid gray;box-sizing: border-box;top: 0;bottom: 0;left: 50%;z-index: 0;}#sk-container-id-1 div.sk-serial {display: flex;flex-direction: column;align-items: center;background-color: white;padding-right: 0.2em;padding-left: 0.2em;position: relative;}#sk-container-id-1 div.sk-item {position: relative;z-index: 1;}#sk-container-id-1 div.sk-parallel {display: flex;align-items: stretch;justify-content: center;background-color: white;position: relative;}#sk-container-id-1 div.sk-item::before, #sk-container-id-1 div.sk-parallel-item::before {content: \"\";position: absolute;border-left: 1px solid gray;box-sizing: border-box;top: 0;bottom: 0;left: 50%;z-index: -1;}#sk-container-id-1 div.sk-parallel-item {display: flex;flex-direction: column;z-index: 1;position: relative;background-color: white;}#sk-container-id-1 div.sk-parallel-item:first-child::after {align-self: flex-end;width: 50%;}#sk-container-id-1 div.sk-parallel-item:last-child::after {align-self: flex-start;width: 50%;}#sk-container-id-1 div.sk-parallel-item:only-child::after {width: 0;}#sk-container-id-1 div.sk-dashed-wrapped {border: 1px dashed gray;margin: 0 0.4em 0.5em 0.4em;box-sizing: border-box;padding-bottom: 0.4em;background-color: white;}#sk-container-id-1 div.sk-label label {font-family: monospace;font-weight: bold;display: inline-block;line-height: 1.2em;}#sk-container-id-1 div.sk-label-container {text-align: center;}#sk-container-id-1 div.sk-container {/* jupyter's `normalize.less` sets `[hidden] { display: none; }` but bootstrap.min.css set `[hidden] { display: none !important; }` so we also need the `!important` here to be able to override the default hidden behavior on the sphinx rendered scikit-learn.org. See: https://github.com/scikit-learn/scikit-learn/issues/21755 */display: inline-block !important;position: relative;}#sk-container-id-1 div.sk-text-repr-fallback {display: none;}</style><div id=\"sk-container-id-1\" class=\"sk-top-container\"><div class=\"sk-text-repr-fallback\"><pre>TfidfVectorizer(max_features=600, ngram_range=(1, 2),\n",
       "                stop_words=[&#x27;too&#x27;, &#x27;could&#x27;, &#x27;two&#x27;, &#x27;thereafter&#x27;, &#x27;as&#x27;,\n",
       "                            &#x27;serious&#x27;, &#x27;seemed&#x27;, &#x27;such&#x27;, &#x27;became&#x27;, &#x27;wherever&#x27;,\n",
       "                            &#x27;therein&#x27;, &#x27;without&#x27;, &#x27;would&#x27;, &#x27;whither&#x27;, &#x27;namely&#x27;,\n",
       "                            &#x27;during&#x27;, &#x27;every&#x27;, &#x27;hence&#x27;, &#x27;some&#x27;, &#x27;becomes&#x27;,\n",
       "                            &#x27;neither&#x27;, &#x27;back&#x27;, &#x27;except&#x27;, &#x27;over&#x27;, &#x27;throughout&#x27;,\n",
       "                            &#x27;everyone&#x27;, &#x27;very&#x27;, &#x27;yourself&#x27;, &#x27;enough&#x27;, &#x27;into&#x27;, ...],\n",
       "                token_pattern=&#x27;[a-zA-Z]+&#x27;)</pre><b>In a Jupyter environment, please rerun this cell to show the HTML representation or trust the notebook. <br />On GitHub, the HTML representation is unable to render, please try loading this page with nbviewer.org.</b></div><div class=\"sk-container\" hidden><div class=\"sk-item\"><div class=\"sk-estimator sk-toggleable\"><input class=\"sk-toggleable__control sk-hidden--visually\" id=\"sk-estimator-id-1\" type=\"checkbox\" checked><label for=\"sk-estimator-id-1\" class=\"sk-toggleable__label sk-toggleable__label-arrow\">TfidfVectorizer</label><div class=\"sk-toggleable__content\"><pre>TfidfVectorizer(max_features=600, ngram_range=(1, 2),\n",
       "                stop_words=[&#x27;too&#x27;, &#x27;could&#x27;, &#x27;two&#x27;, &#x27;thereafter&#x27;, &#x27;as&#x27;,\n",
       "                            &#x27;serious&#x27;, &#x27;seemed&#x27;, &#x27;such&#x27;, &#x27;became&#x27;, &#x27;wherever&#x27;,\n",
       "                            &#x27;therein&#x27;, &#x27;without&#x27;, &#x27;would&#x27;, &#x27;whither&#x27;, &#x27;namely&#x27;,\n",
       "                            &#x27;during&#x27;, &#x27;every&#x27;, &#x27;hence&#x27;, &#x27;some&#x27;, &#x27;becomes&#x27;,\n",
       "                            &#x27;neither&#x27;, &#x27;back&#x27;, &#x27;except&#x27;, &#x27;over&#x27;, &#x27;throughout&#x27;,\n",
       "                            &#x27;everyone&#x27;, &#x27;very&#x27;, &#x27;yourself&#x27;, &#x27;enough&#x27;, &#x27;into&#x27;, ...],\n",
       "                token_pattern=&#x27;[a-zA-Z]+&#x27;)</pre></div></div></div></div></div>"
      ],
      "text/plain": [
       "TfidfVectorizer(max_features=600, ngram_range=(1, 2),\n",
       "                stop_words=['too', 'could', 'two', 'thereafter', 'as',\n",
       "                            'serious', 'seemed', 'such', 'became', 'wherever',\n",
       "                            'therein', 'without', 'would', 'whither', 'namely',\n",
       "                            'during', 'every', 'hence', 'some', 'becomes',\n",
       "                            'neither', 'back', 'except', 'over', 'throughout',\n",
       "                            'everyone', 'very', 'yourself', 'enough', 'into', ...],\n",
       "                token_pattern='[a-zA-Z]+')"
      ]
     },
     "execution_count": 28,
     "metadata": {},
     "output_type": "execute_result"
    }
   ],
   "source": [
    "vector.fit(df['text'])"
   ]
  },
  {
   "cell_type": "code",
   "execution_count": null,
   "id": "26c4a645-81c7-40fb-b1bb-5178f4dea6dc",
   "metadata": {},
   "outputs": [],
   "source": [
    "tokenized_feats = vector.transform(df[\"text\"])"
   ]
  },
  {
   "cell_type": "code",
   "execution_count": null,
   "id": "2f19c659-3887-4d02-8efd-64dfedfba5ba",
   "metadata": {},
   "outputs": [],
   "source": [
    "features = pd.DataFrame(data = tokenized_feats.toarray(), columns = vector.get_feature_names_out())"
   ]
  },
  {
   "cell_type": "code",
   "execution_count": null,
   "id": "023f2160-5d5e-40bd-8075-0d70308d1938",
   "metadata": {},
   "outputs": [
    {
     "data": {
      "text/html": [
       "<div>\n",
       "<style scoped>\n",
       "    .dataframe tbody tr th:only-of-type {\n",
       "        vertical-align: middle;\n",
       "    }\n",
       "\n",
       "    .dataframe tbody tr th {\n",
       "        vertical-align: top;\n",
       "    }\n",
       "\n",
       "    .dataframe thead th {\n",
       "        text-align: right;\n",
       "    }\n",
       "</style>\n",
       "<table border=\"1\" class=\"dataframe\">\n",
       "  <thead>\n",
       "    <tr style=\"text-align: right;\">\n",
       "      <th></th>\n",
       "      <th>ab</th>\n",
       "      <th>able</th>\n",
       "      <th>ac</th>\n",
       "      <th>ac million</th>\n",
       "      <th>according</th>\n",
       "      <th>acquisition</th>\n",
       "      <th>added</th>\n",
       "      <th>addition</th>\n",
       "      <th>adp</th>\n",
       "      <th>adp news</th>\n",
       "      <th>...</th>\n",
       "      <th>x</th>\n",
       "      <th>x ac</th>\n",
       "      <th>year</th>\n",
       "      <th>year ago</th>\n",
       "      <th>year earlier</th>\n",
       "      <th>year eur</th>\n",
       "      <th>year year</th>\n",
       "      <th>years</th>\n",
       "      <th>yesterday</th>\n",
       "      <th>yit</th>\n",
       "    </tr>\n",
       "  </thead>\n",
       "  <tbody>\n",
       "    <tr>\n",
       "      <th>0</th>\n",
       "      <td>0.0</td>\n",
       "      <td>0.0</td>\n",
       "      <td>0.0</td>\n",
       "      <td>0.0</td>\n",
       "      <td>0.000000</td>\n",
       "      <td>0.0</td>\n",
       "      <td>0.0</td>\n",
       "      <td>0.0</td>\n",
       "      <td>0.0</td>\n",
       "      <td>0.0</td>\n",
       "      <td>...</td>\n",
       "      <td>0.0</td>\n",
       "      <td>0.0</td>\n",
       "      <td>0.000000</td>\n",
       "      <td>0.0</td>\n",
       "      <td>0.000000</td>\n",
       "      <td>0.0</td>\n",
       "      <td>0.0</td>\n",
       "      <td>0.000000</td>\n",
       "      <td>0.0</td>\n",
       "      <td>0.0</td>\n",
       "    </tr>\n",
       "    <tr>\n",
       "      <th>1</th>\n",
       "      <td>0.0</td>\n",
       "      <td>0.0</td>\n",
       "      <td>0.0</td>\n",
       "      <td>0.0</td>\n",
       "      <td>0.000000</td>\n",
       "      <td>0.0</td>\n",
       "      <td>0.0</td>\n",
       "      <td>0.0</td>\n",
       "      <td>0.0</td>\n",
       "      <td>0.0</td>\n",
       "      <td>...</td>\n",
       "      <td>0.0</td>\n",
       "      <td>0.0</td>\n",
       "      <td>0.000000</td>\n",
       "      <td>0.0</td>\n",
       "      <td>0.000000</td>\n",
       "      <td>0.0</td>\n",
       "      <td>0.0</td>\n",
       "      <td>0.000000</td>\n",
       "      <td>0.0</td>\n",
       "      <td>0.0</td>\n",
       "    </tr>\n",
       "    <tr>\n",
       "      <th>2</th>\n",
       "      <td>0.0</td>\n",
       "      <td>0.0</td>\n",
       "      <td>0.0</td>\n",
       "      <td>0.0</td>\n",
       "      <td>0.225827</td>\n",
       "      <td>0.0</td>\n",
       "      <td>0.0</td>\n",
       "      <td>0.0</td>\n",
       "      <td>0.0</td>\n",
       "      <td>0.0</td>\n",
       "      <td>...</td>\n",
       "      <td>0.0</td>\n",
       "      <td>0.0</td>\n",
       "      <td>0.000000</td>\n",
       "      <td>0.0</td>\n",
       "      <td>0.000000</td>\n",
       "      <td>0.0</td>\n",
       "      <td>0.0</td>\n",
       "      <td>0.260849</td>\n",
       "      <td>0.0</td>\n",
       "      <td>0.0</td>\n",
       "    </tr>\n",
       "    <tr>\n",
       "      <th>3</th>\n",
       "      <td>0.0</td>\n",
       "      <td>0.0</td>\n",
       "      <td>0.0</td>\n",
       "      <td>0.0</td>\n",
       "      <td>0.000000</td>\n",
       "      <td>0.0</td>\n",
       "      <td>0.0</td>\n",
       "      <td>0.0</td>\n",
       "      <td>0.0</td>\n",
       "      <td>0.0</td>\n",
       "      <td>...</td>\n",
       "      <td>0.0</td>\n",
       "      <td>0.0</td>\n",
       "      <td>0.000000</td>\n",
       "      <td>0.0</td>\n",
       "      <td>0.000000</td>\n",
       "      <td>0.0</td>\n",
       "      <td>0.0</td>\n",
       "      <td>0.000000</td>\n",
       "      <td>0.0</td>\n",
       "      <td>0.0</td>\n",
       "    </tr>\n",
       "    <tr>\n",
       "      <th>4</th>\n",
       "      <td>0.0</td>\n",
       "      <td>0.0</td>\n",
       "      <td>0.0</td>\n",
       "      <td>0.0</td>\n",
       "      <td>0.000000</td>\n",
       "      <td>0.0</td>\n",
       "      <td>0.0</td>\n",
       "      <td>0.0</td>\n",
       "      <td>0.0</td>\n",
       "      <td>0.0</td>\n",
       "      <td>...</td>\n",
       "      <td>0.0</td>\n",
       "      <td>0.0</td>\n",
       "      <td>0.101199</td>\n",
       "      <td>0.0</td>\n",
       "      <td>0.153545</td>\n",
       "      <td>0.0</td>\n",
       "      <td>0.0</td>\n",
       "      <td>0.000000</td>\n",
       "      <td>0.0</td>\n",
       "      <td>0.0</td>\n",
       "    </tr>\n",
       "    <tr>\n",
       "      <th>...</th>\n",
       "      <td>...</td>\n",
       "      <td>...</td>\n",
       "      <td>...</td>\n",
       "      <td>...</td>\n",
       "      <td>...</td>\n",
       "      <td>...</td>\n",
       "      <td>...</td>\n",
       "      <td>...</td>\n",
       "      <td>...</td>\n",
       "      <td>...</td>\n",
       "      <td>...</td>\n",
       "      <td>...</td>\n",
       "      <td>...</td>\n",
       "      <td>...</td>\n",
       "      <td>...</td>\n",
       "      <td>...</td>\n",
       "      <td>...</td>\n",
       "      <td>...</td>\n",
       "      <td>...</td>\n",
       "      <td>...</td>\n",
       "      <td>...</td>\n",
       "    </tr>\n",
       "    <tr>\n",
       "      <th>1962</th>\n",
       "      <td>0.0</td>\n",
       "      <td>0.0</td>\n",
       "      <td>0.0</td>\n",
       "      <td>0.0</td>\n",
       "      <td>0.000000</td>\n",
       "      <td>0.0</td>\n",
       "      <td>0.0</td>\n",
       "      <td>0.0</td>\n",
       "      <td>0.0</td>\n",
       "      <td>0.0</td>\n",
       "      <td>...</td>\n",
       "      <td>0.0</td>\n",
       "      <td>0.0</td>\n",
       "      <td>0.000000</td>\n",
       "      <td>0.0</td>\n",
       "      <td>0.000000</td>\n",
       "      <td>0.0</td>\n",
       "      <td>0.0</td>\n",
       "      <td>0.000000</td>\n",
       "      <td>0.0</td>\n",
       "      <td>0.0</td>\n",
       "    </tr>\n",
       "    <tr>\n",
       "      <th>1963</th>\n",
       "      <td>0.0</td>\n",
       "      <td>0.0</td>\n",
       "      <td>0.0</td>\n",
       "      <td>0.0</td>\n",
       "      <td>0.000000</td>\n",
       "      <td>0.0</td>\n",
       "      <td>0.0</td>\n",
       "      <td>0.0</td>\n",
       "      <td>0.0</td>\n",
       "      <td>0.0</td>\n",
       "      <td>...</td>\n",
       "      <td>0.0</td>\n",
       "      <td>0.0</td>\n",
       "      <td>0.000000</td>\n",
       "      <td>0.0</td>\n",
       "      <td>0.000000</td>\n",
       "      <td>0.0</td>\n",
       "      <td>0.0</td>\n",
       "      <td>0.000000</td>\n",
       "      <td>0.0</td>\n",
       "      <td>0.0</td>\n",
       "    </tr>\n",
       "    <tr>\n",
       "      <th>1964</th>\n",
       "      <td>0.0</td>\n",
       "      <td>0.0</td>\n",
       "      <td>0.0</td>\n",
       "      <td>0.0</td>\n",
       "      <td>0.000000</td>\n",
       "      <td>0.0</td>\n",
       "      <td>0.0</td>\n",
       "      <td>0.0</td>\n",
       "      <td>0.0</td>\n",
       "      <td>0.0</td>\n",
       "      <td>...</td>\n",
       "      <td>0.0</td>\n",
       "      <td>0.0</td>\n",
       "      <td>0.000000</td>\n",
       "      <td>0.0</td>\n",
       "      <td>0.000000</td>\n",
       "      <td>0.0</td>\n",
       "      <td>0.0</td>\n",
       "      <td>0.000000</td>\n",
       "      <td>0.0</td>\n",
       "      <td>0.0</td>\n",
       "    </tr>\n",
       "    <tr>\n",
       "      <th>1965</th>\n",
       "      <td>0.0</td>\n",
       "      <td>0.0</td>\n",
       "      <td>0.0</td>\n",
       "      <td>0.0</td>\n",
       "      <td>0.000000</td>\n",
       "      <td>0.0</td>\n",
       "      <td>0.0</td>\n",
       "      <td>0.0</td>\n",
       "      <td>0.0</td>\n",
       "      <td>0.0</td>\n",
       "      <td>...</td>\n",
       "      <td>0.0</td>\n",
       "      <td>0.0</td>\n",
       "      <td>0.000000</td>\n",
       "      <td>0.0</td>\n",
       "      <td>0.000000</td>\n",
       "      <td>0.0</td>\n",
       "      <td>0.0</td>\n",
       "      <td>0.000000</td>\n",
       "      <td>0.0</td>\n",
       "      <td>0.0</td>\n",
       "    </tr>\n",
       "    <tr>\n",
       "      <th>1966</th>\n",
       "      <td>0.0</td>\n",
       "      <td>0.0</td>\n",
       "      <td>0.0</td>\n",
       "      <td>0.0</td>\n",
       "      <td>0.000000</td>\n",
       "      <td>0.0</td>\n",
       "      <td>0.0</td>\n",
       "      <td>0.0</td>\n",
       "      <td>0.0</td>\n",
       "      <td>0.0</td>\n",
       "      <td>...</td>\n",
       "      <td>0.0</td>\n",
       "      <td>0.0</td>\n",
       "      <td>0.000000</td>\n",
       "      <td>0.0</td>\n",
       "      <td>0.000000</td>\n",
       "      <td>0.0</td>\n",
       "      <td>0.0</td>\n",
       "      <td>0.000000</td>\n",
       "      <td>0.0</td>\n",
       "      <td>0.0</td>\n",
       "    </tr>\n",
       "  </tbody>\n",
       "</table>\n",
       "<p>1967 rows × 600 columns</p>\n",
       "</div>"
      ],
      "text/plain": [
       "       ab  able   ac  ac million  according  acquisition  added  addition  \\\n",
       "0     0.0   0.0  0.0         0.0   0.000000          0.0    0.0       0.0   \n",
       "1     0.0   0.0  0.0         0.0   0.000000          0.0    0.0       0.0   \n",
       "2     0.0   0.0  0.0         0.0   0.225827          0.0    0.0       0.0   \n",
       "3     0.0   0.0  0.0         0.0   0.000000          0.0    0.0       0.0   \n",
       "4     0.0   0.0  0.0         0.0   0.000000          0.0    0.0       0.0   \n",
       "...   ...   ...  ...         ...        ...          ...    ...       ...   \n",
       "1962  0.0   0.0  0.0         0.0   0.000000          0.0    0.0       0.0   \n",
       "1963  0.0   0.0  0.0         0.0   0.000000          0.0    0.0       0.0   \n",
       "1964  0.0   0.0  0.0         0.0   0.000000          0.0    0.0       0.0   \n",
       "1965  0.0   0.0  0.0         0.0   0.000000          0.0    0.0       0.0   \n",
       "1966  0.0   0.0  0.0         0.0   0.000000          0.0    0.0       0.0   \n",
       "\n",
       "      adp  adp news  ...    x  x ac      year  year ago  year earlier  \\\n",
       "0     0.0       0.0  ...  0.0   0.0  0.000000       0.0      0.000000   \n",
       "1     0.0       0.0  ...  0.0   0.0  0.000000       0.0      0.000000   \n",
       "2     0.0       0.0  ...  0.0   0.0  0.000000       0.0      0.000000   \n",
       "3     0.0       0.0  ...  0.0   0.0  0.000000       0.0      0.000000   \n",
       "4     0.0       0.0  ...  0.0   0.0  0.101199       0.0      0.153545   \n",
       "...   ...       ...  ...  ...   ...       ...       ...           ...   \n",
       "1962  0.0       0.0  ...  0.0   0.0  0.000000       0.0      0.000000   \n",
       "1963  0.0       0.0  ...  0.0   0.0  0.000000       0.0      0.000000   \n",
       "1964  0.0       0.0  ...  0.0   0.0  0.000000       0.0      0.000000   \n",
       "1965  0.0       0.0  ...  0.0   0.0  0.000000       0.0      0.000000   \n",
       "1966  0.0       0.0  ...  0.0   0.0  0.000000       0.0      0.000000   \n",
       "\n",
       "      year eur  year year     years  yesterday  yit  \n",
       "0          0.0        0.0  0.000000        0.0  0.0  \n",
       "1          0.0        0.0  0.000000        0.0  0.0  \n",
       "2          0.0        0.0  0.260849        0.0  0.0  \n",
       "3          0.0        0.0  0.000000        0.0  0.0  \n",
       "4          0.0        0.0  0.000000        0.0  0.0  \n",
       "...        ...        ...       ...        ...  ...  \n",
       "1962       0.0        0.0  0.000000        0.0  0.0  \n",
       "1963       0.0        0.0  0.000000        0.0  0.0  \n",
       "1964       0.0        0.0  0.000000        0.0  0.0  \n",
       "1965       0.0        0.0  0.000000        0.0  0.0  \n",
       "1966       0.0        0.0  0.000000        0.0  0.0  \n",
       "\n",
       "[1967 rows x 600 columns]"
      ]
     },
     "execution_count": 101,
     "metadata": {},
     "output_type": "execute_result"
    }
   ],
   "source": [
    "features"
   ]
  },
  {
   "cell_type": "code",
   "execution_count": null,
   "id": "56d44c76-dac2-405a-890e-9392376883d6",
   "metadata": {},
   "outputs": [],
   "source": [
    "df['char_count'] = df['text'].str.count(r\"\\S\")\n",
    "df['word_count'] = df['text'].str.count(pattern)\n",
    "df['avg_word_length'] = df['char_count'] / df['word_count']\n"
   ]
  },
  {
   "cell_type": "code",
   "execution_count": null,
   "id": "7b3bb3b5-a97d-4005-b522-bbe0bf648139",
   "metadata": {},
   "outputs": [
    {
     "data": {
      "text/plain": [
       "ab                 0\n",
       "able               0\n",
       "ac                 0\n",
       "ac million         0\n",
       "according          0\n",
       "                  ..\n",
       "yesterday          0\n",
       "yit                0\n",
       "char_count         0\n",
       "word_count         0\n",
       "avg_word_length    0\n",
       "Length: 603, dtype: int64"
      ]
     },
     "execution_count": 165,
     "metadata": {},
     "output_type": "execute_result"
    }
   ],
   "source": [
    "X = pd.concat([features.reset_index(drop=True), df.loc[:, 'char_count':].reset_index(drop = True)], axis = 1)\n",
    "y = df['sentiment']\n",
    "X.isna().sum()"
   ]
  },
  {
   "cell_type": "code",
   "execution_count": null,
   "id": "9b8efebe-1008-4bdc-8552-852d369f7b76",
   "metadata": {},
   "outputs": [
    {
     "data": {
      "text/plain": [
       "(1967, 603)"
      ]
     },
     "execution_count": 166,
     "metadata": {},
     "output_type": "execute_result"
    }
   ],
   "source": [
    "X.shape"
   ]
  },
  {
   "cell_type": "code",
   "execution_count": null,
   "id": "8855673f-8337-4abc-b5e0-43061b485b41",
   "metadata": {},
   "outputs": [],
   "source": [
    "X_train, X_test, y_train, y_test = train_test_split(X, y, test_size = .2, random_state = 123)"
   ]
  },
  {
   "cell_type": "code",
   "execution_count": null,
   "id": "e741f52e-ed96-428e-8e2b-a4cfa9ed8a0c",
   "metadata": {},
   "outputs": [],
   "source": [
    "random_forest = RandomForestClassifier(random_state = 123).fit(X_train, y_train)"
   ]
  },
  {
   "cell_type": "code",
   "execution_count": null,
   "id": "1a2c9516-2d34-454f-852d-d7ed576f3c7b",
   "metadata": {},
   "outputs": [],
   "source": [
    "y_pred = random_forest.predict(X_test)"
   ]
  },
  {
   "cell_type": "code",
   "execution_count": null,
   "id": "62a8b451-8299-49b5-97f1-62bed1d34859",
   "metadata": {},
   "outputs": [
    {
     "name": "stdout",
     "output_type": "stream",
     "text": [
      "              precision    recall  f1-score   support\n",
      "\n",
      "           0       0.74      0.53      0.62       114\n",
      "           1       0.83      0.93      0.87       280\n",
      "\n",
      "    accuracy                           0.81       394\n",
      "   macro avg       0.78      0.73      0.74       394\n",
      "weighted avg       0.80      0.81      0.80       394\n",
      "\n"
     ]
    }
   ],
   "source": [
    "print(classification_report(y_test, y_pred))"
   ]
  },
  {
   "cell_type": "code",
   "execution_count": null,
   "metadata": {},
   "outputs": [
    {
     "data": {
      "text/plain": [
       "0.81"
      ]
     },
     "execution_count": 171,
     "metadata": {},
     "output_type": "execute_result"
    }
   ],
   "source": [
    "round(accuracy_score(y_test, y_pred), 2)"
   ]
  },
  {
   "cell_type": "code",
   "execution_count": null,
   "metadata": {},
   "outputs": [],
   "source": [
    "from sklearn.metrics import ConfusionMatrixDisplay\n",
    "from sklearn.metrics import confusion_matrix"
   ]
  },
  {
   "cell_type": "code",
   "execution_count": null,
   "metadata": {},
   "outputs": [],
   "source": [
    "mat = confusion_matrix(y_test, y_pred)"
   ]
  },
  {
   "cell_type": "code",
   "execution_count": null,
   "metadata": {},
   "outputs": [
    {
     "data": {
      "text/plain": [
       "<sklearn.metrics._plot.confusion_matrix.ConfusionMatrixDisplay at 0x3287a1490>"
      ]
     },
     "execution_count": 182,
     "metadata": {},
     "output_type": "execute_result"
    },
    {
     "data": {
      "image/png": "[encoded data removed]",
      "text/plain": [
       "<Figure size 640x480 with 2 Axes>"
      ]
     },
     "metadata": {},
     "output_type": "display_data"
    }
   ],
   "source": [
    "disp = ConfusionMatrixDisplay(mat)\n",
    "disp.plot()"
   ]
  },
  {
   "cell_type": "markdown",
   "metadata": {},
   "source": [
    "Save our Model"
   ]
  },
  {
   "cell_type": "code",
   "execution_count": null,
   "metadata": {},
   "outputs": [],
   "source": [
    "import pickle"
   ]
  },
  {
   "cell_type": "code",
   "execution_count": null,
   "metadata": {},
   "outputs": [],
   "source": [
    "financial_sentiment_model = \"financial_sentiment_classifier.pkl\""
   ]
  },
  {
   "cell_type": "code",
   "execution_count": null,
   "metadata": {},
   "outputs": [
    {
     "ename": "NameError",
     "evalue": "name 'model' is not defined",
     "output_type": "error",
     "traceback": [
      "\u001b[0;31m---------------------------------------------------------------------------\u001b[0m",
      "\u001b[0;31mNameError\u001b[0m                                 Traceback (most recent call last)",
      "\u001b[1;32m/Users/22liddicoat/Documents/GitHub/FinancialSentimentAnalysis/FinancialSentimentAnalysis.ipynb Cell 46\u001b[0m line \u001b[0;36m2\n\u001b[1;32m      <a href='vscode-notebook-cell:/Users/22liddicoat/Documents/GitHub/FinancialSentimentAnalysis/FinancialSentimentAnalysis.ipynb#X63sZmlsZQ%3D%3D?line=0'>1</a>\u001b[0m \u001b[39mwith\u001b[39;00m \u001b[39mopen\u001b[39m(financial_sentiment_model, \u001b[39m'\u001b[39m\u001b[39mwb\u001b[39m\u001b[39m'\u001b[39m) \u001b[39mas\u001b[39;00m file:  \n\u001b[0;32m----> <a href='vscode-notebook-cell:/Users/22liddicoat/Documents/GitHub/FinancialSentimentAnalysis/FinancialSentimentAnalysis.ipynb#X63sZmlsZQ%3D%3D?line=1'>2</a>\u001b[0m     pickle\u001b[39m.\u001b[39mdump(model, file)\n",
      "\u001b[0;31mNameError\u001b[0m: name 'model' is not defined"
     ]
    }
   ],
   "source": [
    "with open(financial_sentiment_model, 'wb') as file:  \n",
    "    pickle.dump(model, file)"
   ]
  }
 ],
 "metadata": {
  "kernelspec": {
   "display_name": "Python 3 (ipykernel)",
   "language": "python",
   "name": "python3"
  },
  "language_info": {
   "codemirror_mode": {
    "name": "ipython",
    "version": 3
   },
   "file_extension": ".py",
   "mimetype": "text/x-python",
   "name": "python",
   "nbconvert_exporter": "python",
   "pygments_lexer": "ipython3",
   "version": "3.11.4"
  }
 },
 "nbformat": 4,
 "nbformat_minor": 5
}
